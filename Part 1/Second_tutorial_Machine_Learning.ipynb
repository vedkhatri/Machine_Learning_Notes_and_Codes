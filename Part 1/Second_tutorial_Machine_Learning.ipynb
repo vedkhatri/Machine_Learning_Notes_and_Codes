{
 "cells": [
  {
   "cell_type": "code",
   "execution_count": 1,
   "metadata": {},
   "outputs": [
    {
     "data": {
      "text/plain": [
       "dict_keys(['data', 'target', 'frame', 'categories', 'feature_names', 'target_names', 'DESCR', 'details', 'url'])"
      ]
     },
     "execution_count": 1,
     "metadata": {},
     "output_type": "execute_result"
    }
   ],
   "source": [
    "from sklearn.datasets import fetch_openml\n",
    "\n",
    "mnist = fetch_openml('mnist_784', version = 1)\n",
    "mnist.keys()"
   ]
  },
  {
   "cell_type": "code",
   "execution_count": 2,
   "metadata": {},
   "outputs": [
    {
     "name": "stdout",
     "output_type": "stream",
     "text": [
      "(70000, 784)\n",
      "(70000,)\n"
     ]
    }
   ],
   "source": [
    "X, y = mnist['data'], mnist['target']\n",
    "print(X.shape)\n",
    "print(y.shape)"
   ]
  },
  {
   "cell_type": "code",
   "execution_count": 3,
   "metadata": {},
   "outputs": [
    {
     "data": {
      "image/png": "[encoded data removed]",
      "text/plain": [
       "<Figure size 432x288 with 1 Axes>"
      ]
     },
     "metadata": {
      "needs_background": "light"
     },
     "output_type": "display_data"
    },
    {
     "name": "stdout",
     "output_type": "stream",
     "text": [
      "8\n"
     ]
    }
   ],
   "source": [
    "import matplotlib as mpl\n",
    "import matplotlib.pyplot as plt\n",
    "\n",
    "some_digit = X[7000]\n",
    "some_data_image = some_digit.reshape(28,28)\n",
    "\n",
    "plt.imshow(some_data_image, cmap = mpl.cm.binary, interpolation = \"nearest\")\n",
    "plt.axis(\"off\")\n",
    "plt.show()\n",
    "print(y[7000])"
   ]
  },
  {
   "cell_type": "code",
   "execution_count": 4,
   "metadata": {},
   "outputs": [],
   "source": [
    "# y is in the form of a string, converting it to an integer,\n",
    "import numpy as np\n",
    "y = y.astype(np.uint8)\n",
    "\n",
    "# To create a train and a test set,\n",
    "\n",
    "X_train, X_test, y_train, y_test = X[:60000], X[60000:], y[:60000], y[60000:]\n",
    "# In this exercise, the first 60,000 instances (images) are used for training and the remaining 10,000 for testing.\n",
    "# The data is already shuffled, which in this case, would ensure that all cross-validation being similar."
   ]
  },
  {
   "cell_type": "code",
   "execution_count": 5,
   "metadata": {},
   "outputs": [
    {
     "data": {
      "text/plain": [
       "array([False])"
      ]
     },
     "execution_count": 5,
     "metadata": {},
     "output_type": "execute_result"
    }
   ],
   "source": [
    "# Training a binary classifier,\n",
    "\n",
    "# Trying instances containing 7 (Note: Binary would verify if an instance would or would not meet the condition)\n",
    "y_train_7 = (y_train == 7)    # True for all 7s, False for all other instances\n",
    "y_test_7 = (y_test == 7)\n",
    "\n",
    "# Picking a classifier and training it,\n",
    "from sklearn.linear_model import SGDClassifier    # Using the Stichastic Gradient Descent Classifier\n",
    "sgd_clf = SGDClassifier(random_state = 42)\n",
    "sgd_clf.fit(X_train, y_train_7)\n",
    "\n",
    "# Let's check the classifier by an instance,\n",
    "sgd_clf.predict([some_digit])"
   ]
  },
  {
   "cell_type": "code",
   "execution_count": 6,
   "metadata": {},
   "outputs": [
    {
     "data": {
      "text/plain": [
       "array([0.98105, 0.9735 , 0.95335])"
      ]
     },
     "execution_count": 6,
     "metadata": {},
     "output_type": "execute_result"
    }
   ],
   "source": [
    "# Cross-validating the model with K-fold cross-validation technique,\n",
    "\n",
    "from sklearn.model_selection import cross_val_score\n",
    "\n",
    "cross_val_score(sgd_clf, X_train, y_train_7, cv = 3, scoring = \"accuracy\")"
   ]
  },
  {
   "cell_type": "code",
   "execution_count": 8,
   "metadata": {},
   "outputs": [
    {
     "data": {
      "text/plain": [
       "array([0.89535, 0.8984 , 0.893  ])"
      ]
     },
     "execution_count": 8,
     "metadata": {},
     "output_type": "execute_result"
    }
   ],
   "source": [
    "# Let's try a different model than SGD\n",
    "# Let's try BaseEstimator\n",
    "\n",
    "from sklearn.base import BaseEstimator\n",
    "\n",
    "class Never7Classifier(BaseEstimator):\n",
    "    def fit(self, X, y = None):\n",
    "        pass\n",
    "    def predict(self, X):\n",
    "        return np.zeros((len(X), 1), dtype = bool)\n",
    "\n",
    "never_7_clf = Never7Classifier()\n",
    "cross_val_score(never_7_clf, X_train, y_train_7, cv = 3, scoring = \"accuracy\")"
   ]
  },
  {
   "cell_type": "code",
   "execution_count": 9,
   "metadata": {},
   "outputs": [
    {
     "data": {
      "text/plain": [
       "array([[52581,  1154],\n",
       "       [  688,  5577]], dtype=int64)"
      ]
     },
     "execution_count": 9,
     "metadata": {},
     "output_type": "execute_result"
    }
   ],
   "source": [
    "# A much efficient way to check the accuracy is to compute the 'confusion matrix'.\n",
    "# The general idea is to count the number of instance the class A was classified as class B\n",
    "\n",
    "from sklearn.model_selection import cross_val_predict\n",
    "y_train_pred = cross_val_predict(sgd_clf, X_train, y_train_7, cv = 3)\n",
    "\n",
    "from sklearn.metrics import confusion_matrix\n",
    "confusion_matrix(y_train_7, y_train_pred)\n",
    "\n",
    "# The output contains a 2x2 array: The first row considers non-7 images (negative class), where the first element is\n",
    "# the number of correctly classified instances (true negatives) and the second element as wrongly classified (false\n",
    "# negatives). The second row consists of the first element as wrongly classfied 7s (false positives) and the second\n",
    "# element consists of correctly classfied 7s (true positives)."
   ]
  },
  {
   "cell_type": "code",
   "execution_count": 10,
   "metadata": {},
   "outputs": [
    {
     "data": {
      "text/plain": [
       "0.8901835594573024"
      ]
     },
     "execution_count": 10,
     "metadata": {},
     "output_type": "execute_result"
    }
   ],
   "source": [
    "# While the confusion matrix would give the information required, a measure called 'precision' of a classifier can be\n",
    "# derived from the confusion matrix. This accurately describes the positive predictions.\n",
    "\n",
    "# A mathematical formula is precision = TP / (TP + FP), where TP - true positive, FP - false positive\n",
    "\n",
    "# For further accuracy, another measure called 'recall' or 'sensitivity' or 'true positive rate' (TPR) is used along with\n",
    "# the precision measure.\n",
    "\n",
    "# recall = TP + (TP + FN), where TP - True Positive, FN - False Negative\n",
    "\n",
    "# Computing precision and recall,\n",
    "from sklearn.metrics import precision_score, recall_score\n",
    "precision_score(y_train_7, y_train_pred)\n",
    "recall_score(y_train_7, y_train_pred)"
   ]
  },
  {
   "cell_type": "code",
   "execution_count": 11,
   "metadata": {},
   "outputs": [
    {
     "data": {
      "text/plain": [
       "0.8582640812557709"
      ]
     },
     "execution_count": 11,
     "metadata": {},
     "output_type": "execute_result"
    }
   ],
   "source": [
    "# It is often convenient to combine precision and recall into a single matrix called f1 score. The f1 score is the harmonic\n",
    "# mean of precision and recall.\n",
    "# Whilst the regular mean treats all values equally, a harmonic mean gives much more weight to low values.\n",
    "# As a result, the classifier f1 will only get a hogh score if both precision and recall are high.\n",
    "\n",
    "# The mathematical formula for f1 is:\n",
    "# f1 = 2 / ( 1/precision + 1/recall) == TP/ (TP + ((FN + FP)/2))\n",
    "\n",
    "# f1 is computed as,\n",
    "from sklearn.metrics import f1_score\n",
    "f1_score(y_train_7, y_train_pred)"
   ]
  },
  {
   "cell_type": "code",
   "execution_count": 12,
   "metadata": {},
   "outputs": [
    {
     "name": "stdout",
     "output_type": "stream",
     "text": [
      "[-14493.06965105]\n"
     ]
    }
   ],
   "source": [
    "# With the type of the problem, it may be beneficial to increase or reduce precision or\n",
    "# recall. As one increases, the other measure reduces - therefore, called the \n",
    "# precision/recall tradeoff.\n",
    "# A score based on a decision function can be computed to make classification decisions\n",
    "# If the score is greater than the threshold, it assigns the instance to the positive\n",
    "# class, if not it's assigned to the negative class.\n",
    "\n",
    "# Scikit-learn does not allow setting the threshold diectly, but it gives access to decision\n",
    "# scores taken to make predictions.\n",
    "\n",
    "y_scores = sgd_clf.decision_function([some_digit])\n",
    "print(y_scores)\n",
    "\n",
    "threshold = 0    # setting the threshold as zero for now. We increase this later on.\n",
    "y_some_digit_pred = (y_scores > threshold)"
   ]
  },
  {
   "cell_type": "code",
   "execution_count": 13,
   "metadata": {},
   "outputs": [
    {
     "name": "stdout",
     "output_type": "stream",
     "text": [
      "[False]\n"
     ]
    }
   ],
   "source": [
    "# Now, let's try the threshold to be 8000\n",
    "threshold = 8000\n",
    "y_some_digit_pred = (y_scores > threshold)\n",
    "print(y_some_digit_pred)"
   ]
  },
  {
   "cell_type": "code",
   "execution_count": 14,
   "metadata": {},
   "outputs": [],
   "source": [
    "# To decide what threshold to use, it is important to get the scores of all instances in the\n",
    "# training set using croos_val_predict() function, however, specifying to return by the method\n",
    "# 'decision_function' instead\n",
    "y_scores = cross_val_predict(sgd_clf, X_train, y_train_7, cv = 3, method = 'decision_function')"
   ]
  },
  {
   "cell_type": "code",
   "execution_count": 15,
   "metadata": {},
   "outputs": [],
   "source": [
    "# With these scores, computing the precision/recall curve, we get,\n",
    "from sklearn.metrics import precision_recall_curve\n",
    "precisions, recall, thresholds = precision_recall_curve(y_train_7, y_scores)"
   ]
  },
  {
   "cell_type": "code",
   "execution_count": 16,
   "metadata": {},
   "outputs": [
    {
     "data": {
      "image/png": "[encoded data removed]",
      "text/plain": [
       "<Figure size 432x288 with 1 Axes>"
      ]
     },
     "metadata": {
      "needs_background": "light"
     },
     "output_type": "display_data"
    }
   ],
   "source": [
    "def plot_precision_recall_vs_thresholds (precisions, recall, thresholds):\n",
    "    plt.plot(thresholds, precisions[:-1], \"b--\", label = \"Precision\")\n",
    "    plt.plot(thresholds, recall[:-1], \"g-\", label = \"Recall\")\n",
    "    plt.xlabel(\"Threshold\")\n",
    "    plt.legend()\n",
    "    plt.grid()\n",
    "      \n",
    "\n",
    "plot_precision_recall_vs_thresholds(precisions, recall, thresholds)\n",
    "plt.show()"
   ]
  },
  {
   "cell_type": "code",
   "execution_count": 17,
   "metadata": {
    "scrolled": true
   },
   "outputs": [
    {
     "data": {
      "image/png": "[encoded data removed]",
      "text/plain": [
       "<Figure size 432x288 with 1 Axes>"
      ]
     },
     "metadata": {
      "needs_background": "light"
     },
     "output_type": "display_data"
    }
   ],
   "source": [
    "# Another way to measure the trade-off is to plot the precision vs. recall graph\n",
    "plt.plot(recall[:-1], precisions[:-1], 'b-')\n",
    "plt.xlabel(\"Recall\")\n",
    "plt.ylabel(\"Precision\")\n",
    "plt.grid()"
   ]
  },
  {
   "cell_type": "code",
   "execution_count": 18,
   "metadata": {},
   "outputs": [],
   "source": [
    "# Another common tool used with binary classifiers is the ROC (Receiver Operating Characteristic) curve\n",
    "# Instead of precision and recall, it plots true positive rate (tpr) and false positive rate (fpr)\n",
    "# By math, fpr = 1 - tnr (true negative rate) -> also called specificity.\n",
    "# Therefore, the ROC curve plots sensitivity (recall) vs. (1 - specificity)\n",
    "\n",
    "from sklearn.metrics import roc_curve\n",
    "fpr, tpr, thresholds = roc_curve(y_train_7, y_scores)"
   ]
  },
  {
   "cell_type": "code",
   "execution_count": 19,
   "metadata": {},
   "outputs": [
    {
     "data": {
      "image/png": "[encoded data removed]",
      "text/plain": [
       "<Figure size 432x288 with 1 Axes>"
      ]
     },
     "metadata": {
      "needs_background": "light"
     },
     "output_type": "display_data"
    }
   ],
   "source": [
    "def plot_roc_curve(fpr, tpr, label = None):\n",
    "    plt.plot(fpr, tpr, linewidth = 2, label = label)\n",
    "    plt.plot([0,1], [0,1], 'k--') # dashed diagonal\n",
    "    plt.xlabel(\"False Positive Rate\")\n",
    "    plt.ylabel(\"True Positive Rate\")\n",
    "    plt.grid()\n",
    "    \n",
    "plot_roc_curve(fpr, tpr)\n",
    "plt.show()\n",
    "\n",
    "# The dotted line represents the ROC curve of a purely random classifier. A good classifier stays\n",
    "# as far away from the line as possible."
   ]
  },
  {
   "cell_type": "code",
   "execution_count": 20,
   "metadata": {},
   "outputs": [
    {
     "data": {
      "text/plain": [
       "0.986670497551944"
      ]
     },
     "execution_count": 20,
     "metadata": {},
     "output_type": "execute_result"
    }
   ],
   "source": [
    "# To compare classifiers, area under curve (AUC) could be calculated. A perfect classifier will\n",
    "# have a ROC AUC of 1, whereas a purely random classifier will have a ROC AUC of 0.5.\n",
    "\n",
    "from sklearn.metrics import roc_auc_score\n",
    "roc_auc_score(y_train_7, y_scores)"
   ]
  },
  {
   "cell_type": "code",
   "execution_count": 21,
   "metadata": {},
   "outputs": [
    {
     "data": {
      "image/png": "[encoded data removed]",
      "text/plain": [
       "<Figure size 432x288 with 1 Axes>"
      ]
     },
     "metadata": {
      "needs_background": "light"
     },
     "output_type": "display_data"
    }
   ],
   "source": [
    "# Using random forest method to check the ROC AUC in comparison to SGD,\n",
    "from sklearn.ensemble import RandomForestClassifier\n",
    "forest_clf = RandomForestClassifier(random_state = 42)\n",
    "y_probas_forest = cross_val_predict(forest_clf, X_train, y_train_7, cv = 3,\n",
    "                                 method = \"predict_proba\") # As there is no decision_function in\n",
    "                                                           # Random Forest Classifier\n",
    "y_scores_forest = y_probas_forest[:,1] # score = proba of positive class\n",
    "fpr_forest, tpr_forest, thresholds_forest = roc_curve(y_train_7, y_scores_forest)\n",
    "\n",
    "# Plotting the graphs,\n",
    "plt.plot(fpr, tpr, \"b:\", label = \"SGD\")\n",
    "plot_roc_curve(fpr_forest, tpr_forest, \"Random Forest\")\n",
    "plt.legend(loc = \"lower right\")\n",
    "plt.grid()\n",
    "plt.show()"
   ]
  },
  {
   "cell_type": "code",
   "execution_count": 22,
   "metadata": {},
   "outputs": [
    {
     "data": {
      "text/plain": [
       "45"
      ]
     },
     "execution_count": 22,
     "metadata": {},
     "output_type": "execute_result"
    }
   ],
   "source": [
    "# MULTICLASS OR MULTINOMIAL CLASSIFIERS\n",
    "\n",
    "from sklearn.multiclass import OneVsOneClassifier\n",
    "ovo_clf = OneVsOneClassifier(SGDClassifier(random_state = 42))\n",
    "ovo_clf.fit(X_train, y_train)\n",
    "ovo_clf.predict([some_digit])\n",
    "len(ovo_clf.estimators_)"
   ]
  },
  {
   "cell_type": "code",
   "execution_count": null,
   "metadata": {},
   "outputs": [],
   "source": [
    "from sklearn.preprocessing import StandardScaler\n",
    "scaler = StandardScaler()\n",
    "X_train_scaled = scaler.fit_transform(X_train.astype(np.float64))\n",
    "cross_val_score(sgd_clf, X_train_scaled, y_train, cv = 3, scoring = \"accuracy\")"
   ]
  },
  {
   "cell_type": "code",
   "execution_count": null,
   "metadata": {},
   "outputs": [],
   "source": [
    "# Error analysis:\n",
    "# Just as the data was prepared, algorithms short-listed, fine-tuning hyperparameters, and \n",
    "# automating. In this problem, it is assumed that a promising model is achieved, however, focussed\n",
    "# on how these could be improved.\n",
    "\n",
    "# Step 1 - Observe the confusion matrix\n",
    "y_train_pred = cross_val_pred(sgd_clf, X_train_scaled, y_train, cv = 3)\n",
    "conf_mx = confusion_matrix(y_train, y_train_pred)\n",
    "# There are a lot of numbers, so an image representation may be easier for interpretation\n",
    "plt.plot(conf_mx, cmap = plt.cm.gray)\n",
    "plt.show()\n",
    "\n",
    "# The plot shows light grey diagonal, therefore, indicating a fairly good classification.\n",
    "# In some cases, if the diagonal values are fairly darker, these mean either there are fewer images\n",
    "# of 7s or the classifier does not perform as well on 5 as on other digits.\n",
    "# However, both could be the reason for the darker shade."
   ]
  },
  {
   "cell_type": "code",
   "execution_count": null,
   "metadata": {},
   "outputs": [],
   "source": [
    "# Checking on the error,\n",
    "row_sums = conf_mx.sum(axis = 1, keepdims = True)\n",
    "norm_conf_mx = conf_mx / row_sums\n",
    "np.fill_diagonal(norm_conf_mx, 0)\n",
    "plt.matshow(norm_conf_mx, cmap = plt.cm.gray)\n",
    "plt.show()"
   ]
  }
 ],
 "metadata": {
  "kernelspec": {
   "display_name": "Python 3",
   "language": "python",
   "name": "python3"
  },
  "language_info": {
   "codemirror_mode": {
    "name": "ipython",
    "version": 3
   },
   "file_extension": ".py",
   "mimetype": "text/x-python",
   "name": "python",
   "nbconvert_exporter": "python",
   "pygments_lexer": "ipython3",
   "version": "3.8.5"
  }
 },
 "nbformat": 4,
 "nbformat_minor": 4
}
